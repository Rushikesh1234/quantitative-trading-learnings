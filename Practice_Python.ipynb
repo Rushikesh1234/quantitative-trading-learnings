{
  "nbformat": 4,
  "nbformat_minor": 0,
  "metadata": {
    "colab": {
      "provenance": []
    },
    "kernelspec": {
      "name": "python3",
      "display_name": "Python 3"
    },
    "language_info": {
      "name": "python"
    }
  },
  "cells": [
    {
      "cell_type": "markdown",
      "source": [
        "# Python Fundamentals"
      ],
      "metadata": {
        "id": "Jy7WWZSjf0BR"
      }
    },
    {
      "cell_type": "markdown",
      "source": [
        "## Step 1: Python *Basics*"
      ],
      "metadata": {
        "id": "CwN61pVFeME5"
      }
    },
    {
      "cell_type": "markdown",
      "source": [
        "1. Variables and Data Types"
      ],
      "metadata": {
        "id": "oNrO8uwrdYoY"
      }
    },
    {
      "cell_type": "code",
      "source": [
        "\n",
        "name = \"Rushikesh\"\n",
        "age = 25\n",
        "height = 5.9\n",
        "is_learning = True\n",
        "\n",
        "\n",
        "print(\"Name:\", name)\n",
        "print(\"Age:\", age)\n",
        "print(\"Height:\", height)\n",
        "print(\"Is learning:\", is_learning)\n"
      ],
      "metadata": {
        "colab": {
          "base_uri": "https://localhost:8080/"
        },
        "id": "w0tjKp-HdbEN",
        "outputId": "5e99bf01-3c94-4713-c1b4-a4722a6d5aee"
      },
      "execution_count": 33,
      "outputs": [
        {
          "output_type": "stream",
          "name": "stdout",
          "text": [
            "Name: Rushikesh\n",
            "Age: 25\n",
            "Height: 5.9\n",
            "Is learning: True\n"
          ]
        }
      ]
    },
    {
      "cell_type": "markdown",
      "source": [
        "2. Operators"
      ],
      "metadata": {
        "id": "ZcQvHM1ldi9r"
      }
    },
    {
      "cell_type": "code",
      "source": [
        "\n",
        "a = 10\n",
        "b = 3\n",
        "print(\"Addition:\", a + b)\n",
        "print(\"Subtraction:\", a - b)\n",
        "print(\"Multiplication:\", a * b)\n",
        "print(\"Division:\", a / b)\n",
        "print(\"Floor Division:\", a // b)\n",
        "print(\"Modulus:\", a % b)\n",
        "print(\"Exponent:\", a ** b)\n"
      ],
      "metadata": {
        "colab": {
          "base_uri": "https://localhost:8080/"
        },
        "id": "AhpbJUP9dmLl",
        "outputId": "65b9b4b5-fec9-45b6-d226-838b23900b79"
      },
      "execution_count": 34,
      "outputs": [
        {
          "output_type": "stream",
          "name": "stdout",
          "text": [
            "Addition: 13\n",
            "Subtraction: 7\n",
            "Multiplication: 30\n",
            "Division: 3.3333333333333335\n",
            "Floor Division: 3\n",
            "Modulus: 1\n",
            "Exponent: 1000\n"
          ]
        }
      ]
    },
    {
      "cell_type": "code",
      "source": [
        "import math\n",
        "r = 2\n",
        "area = math.pi * math.pow(r, 2)\n",
        "print(area)"
      ],
      "metadata": {
        "colab": {
          "base_uri": "https://localhost:8080/"
        },
        "id": "KLsMD8jBdrG3",
        "outputId": "d27894e2-1dd5-4c79-e18b-09165e488f83"
      },
      "execution_count": 35,
      "outputs": [
        {
          "output_type": "stream",
          "name": "stdout",
          "text": [
            "12.566370614359172\n"
          ]
        }
      ]
    },
    {
      "cell_type": "markdown",
      "source": [
        "## Step 2: Control Flow"
      ],
      "metadata": {
        "id": "-t0z4zeIeHBy"
      }
    },
    {
      "cell_type": "markdown",
      "source": [
        "1. If-Else Statements\n"
      ],
      "metadata": {
        "id": "lZiDSLcvelrB"
      }
    },
    {
      "cell_type": "code",
      "source": [
        "marks = 80\n",
        "\n",
        "if marks < 40:\n",
        "  print(\"fail\")\n",
        "elif marks >= 40 and marks < 70:\n",
        "  print(\"avarage\")\n",
        "else:\n",
        "  print(\"good\")"
      ],
      "metadata": {
        "colab": {
          "base_uri": "https://localhost:8080/"
        },
        "id": "YXi7MLMaeZSe",
        "outputId": "c769574a-42f5-4808-88c5-a04aaee85a4f"
      },
      "execution_count": 36,
      "outputs": [
        {
          "output_type": "stream",
          "name": "stdout",
          "text": [
            "good\n"
          ]
        }
      ]
    },
    {
      "cell_type": "code",
      "source": [
        "marks = int(input())\n",
        "\n",
        "if marks < 40:\n",
        "  print(\"fail\")\n",
        "elif marks >= 40 and marks < 70:\n",
        "  print(\"avarage\")\n",
        "else:\n",
        "  print(\"good\")"
      ],
      "metadata": {
        "colab": {
          "base_uri": "https://localhost:8080/"
        },
        "id": "sjErmoNLflRJ",
        "outputId": "4eaf9d57-014e-45bb-f1a6-294c39ec96e3"
      },
      "execution_count": 37,
      "outputs": [
        {
          "output_type": "stream",
          "name": "stdout",
          "text": [
            "80\n",
            "good\n"
          ]
        }
      ]
    },
    {
      "cell_type": "markdown",
      "source": [
        "2. Loops: For Loop and While Loop"
      ],
      "metadata": {
        "id": "w6ndSScJfJOm"
      }
    },
    {
      "cell_type": "code",
      "source": [
        "\n",
        "for i in range(1, 6):\n",
        "    print(\"Number:\", i)\n"
      ],
      "metadata": {
        "colab": {
          "base_uri": "https://localhost:8080/"
        },
        "id": "TlLW3Sb_fJ6O",
        "outputId": "f2e5ed03-7571-42be-f527-e320ed314a22"
      },
      "execution_count": 38,
      "outputs": [
        {
          "output_type": "stream",
          "name": "stdout",
          "text": [
            "Number: 1\n",
            "Number: 2\n",
            "Number: 3\n",
            "Number: 4\n",
            "Number: 5\n"
          ]
        }
      ]
    },
    {
      "cell_type": "code",
      "source": [
        "\n",
        "count = 1\n",
        "while count <= 5:\n",
        "    print(\"Count:\", count)\n",
        "    count += 1\n"
      ],
      "metadata": {
        "colab": {
          "base_uri": "https://localhost:8080/"
        },
        "id": "VgfhD8qsfP60",
        "outputId": "eefd0156-81e9-4034-c66b-076b7c2aac69"
      },
      "execution_count": 39,
      "outputs": [
        {
          "output_type": "stream",
          "name": "stdout",
          "text": [
            "Count: 1\n",
            "Count: 2\n",
            "Count: 3\n",
            "Count: 4\n",
            "Count: 5\n"
          ]
        }
      ]
    },
    {
      "cell_type": "code",
      "source": [
        "\n",
        "i=1\n",
        "\n",
        "while i <= 20:\n",
        "  if i % 2 == 0:\n",
        "    print(\"Even \",i)\n",
        "  i += 1\n"
      ],
      "metadata": {
        "colab": {
          "base_uri": "https://localhost:8080/"
        },
        "id": "iQ0Da5SOhzuq",
        "outputId": "ea8d2acd-d2fc-4b1f-bde1-df90b510e302"
      },
      "execution_count": 40,
      "outputs": [
        {
          "output_type": "stream",
          "name": "stdout",
          "text": [
            "Even  2\n",
            "Even  4\n",
            "Even  6\n",
            "Even  8\n",
            "Even  10\n",
            "Even  12\n",
            "Even  14\n",
            "Even  16\n",
            "Even  18\n",
            "Even  20\n"
          ]
        }
      ]
    },
    {
      "cell_type": "markdown",
      "source": [
        "## Step 3: Functions"
      ],
      "metadata": {
        "id": "quSADpk8fWse"
      }
    },
    {
      "cell_type": "code",
      "source": [
        "\n",
        "def greet(name):\n",
        "    return f\"Hello, {name}!\"\n",
        "\n",
        "print(greet(\"Rushikesh\"))\n"
      ],
      "metadata": {
        "colab": {
          "base_uri": "https://localhost:8080/"
        },
        "id": "Zv5LYjp-fah0",
        "outputId": "6c2612e7-80f1-4259-dcb8-f54621b4218c"
      },
      "execution_count": 41,
      "outputs": [
        {
          "output_type": "stream",
          "name": "stdout",
          "text": [
            "Hello, Rushikesh!\n"
          ]
        }
      ]
    },
    {
      "cell_type": "code",
      "source": [
        "\n",
        "def calcSquare(val):\n",
        "  return val*val\n",
        "\n",
        "print(calcSquare(int(input())))"
      ],
      "metadata": {
        "colab": {
          "base_uri": "https://localhost:8080/"
        },
        "id": "nEnoidY6iJkS",
        "outputId": "e1f39f74-f954-46c8-de1d-2cbac2d10f82"
      },
      "execution_count": 42,
      "outputs": [
        {
          "output_type": "stream",
          "name": "stdout",
          "text": [
            "5\n",
            "25\n"
          ]
        }
      ]
    },
    {
      "cell_type": "markdown",
      "source": [
        "## Step 4: Basic Object-Oriented Programming (OOP) Concepts"
      ],
      "metadata": {
        "id": "0Rtm1bUsiYzn"
      }
    },
    {
      "cell_type": "code",
      "source": [
        "\n",
        "class Student:\n",
        "    def __init__(self, name, age):\n",
        "        self.name = name\n",
        "        self.age = age\n",
        "\n",
        "    def display_info(self):\n",
        "        print(f\"Name: {self.name}, Age: {self.age}\")\n",
        "\n",
        "student1 = Student(\"Rushikesh\", 25)\n",
        "student1.display_info()\n"
      ],
      "metadata": {
        "colab": {
          "base_uri": "https://localhost:8080/"
        },
        "id": "dJISElNRiYd1",
        "outputId": "76151f33-bc5b-469f-c46b-36180046886a"
      },
      "execution_count": 43,
      "outputs": [
        {
          "output_type": "stream",
          "name": "stdout",
          "text": [
            "Name: Rushikesh, Age: 25\n"
          ]
        }
      ]
    },
    {
      "cell_type": "code",
      "source": [
        "\n",
        "class Car:\n",
        "  def __init__(self, model, year):\n",
        "    self.model = model\n",
        "    self.year = year\n",
        "\n",
        "  def display(self):\n",
        "    print(f\"Model is {self.model} and Year is {self.year}\")\n",
        "\n",
        "\n",
        "car1 = Car(\"Porche\", 1234)\n",
        "car1.display()"
      ],
      "metadata": {
        "colab": {
          "base_uri": "https://localhost:8080/"
        },
        "id": "JogwP90amkNV",
        "outputId": "04f002a3-a87b-4072-b1fe-7c806ba026aa"
      },
      "execution_count": 44,
      "outputs": [
        {
          "output_type": "stream",
          "name": "stdout",
          "text": [
            "Model is Porche and Year is 1234\n"
          ]
        }
      ]
    },
    {
      "cell_type": "markdown",
      "source": [
        "# Data Manipulation with Pandas and NumPy"
      ],
      "metadata": {
        "id": "Dt7FhXD1f-Lu"
      }
    },
    {
      "cell_type": "markdown",
      "source": [
        "## Step 1: NumPy Basics"
      ],
      "metadata": {
        "id": "qgAlYTKwgEY9"
      }
    },
    {
      "cell_type": "code",
      "source": [
        "pip install numpy"
      ],
      "metadata": {
        "colab": {
          "base_uri": "https://localhost:8080/"
        },
        "id": "27wUXZZwgKHx",
        "outputId": "79706027-7021-4965-b798-2b8ad93a95b1"
      },
      "execution_count": 45,
      "outputs": [
        {
          "output_type": "stream",
          "name": "stdout",
          "text": [
            "Requirement already satisfied: numpy in /usr/local/lib/python3.10/dist-packages (1.26.4)\n"
          ]
        }
      ]
    },
    {
      "cell_type": "code",
      "source": [
        "import numpy as np\n",
        "\n",
        "array_1d = np.array([1, 2, 3, 4, 5])\n",
        "print(\"1D Array:\", array_1d)\n",
        "\n",
        "array_2d = np.array([[1, 2, 3], [4, 5, 6]])\n",
        "print(\"2D Array:\\n\", array_2d)\n"
      ],
      "metadata": {
        "id": "jJz3FmMygdHb",
        "colab": {
          "base_uri": "https://localhost:8080/"
        },
        "outputId": "d47837eb-a8d5-4bba-83cb-308acd61dac7"
      },
      "execution_count": 46,
      "outputs": [
        {
          "output_type": "stream",
          "name": "stdout",
          "text": [
            "1D Array: [1 2 3 4 5]\n",
            "2D Array:\n",
            " [[1 2 3]\n",
            " [4 5 6]]\n"
          ]
        }
      ]
    },
    {
      "cell_type": "code",
      "source": [
        "\n",
        "a = np.array([1, 2, 3])\n",
        "b = np.array([4, 5, 6])\n",
        "\n",
        "print(\"Addition:\", a + b)\n",
        "print(\"Multiplication:\", a * b)\n",
        "\n",
        "print(\"Array + 10:\", a + 10)\n"
      ],
      "metadata": {
        "colab": {
          "base_uri": "https://localhost:8080/"
        },
        "id": "5BB0RIzUBVjX",
        "outputId": "dffd7872-9180-4b3c-c018-4616e20fe190"
      },
      "execution_count": 47,
      "outputs": [
        {
          "output_type": "stream",
          "name": "stdout",
          "text": [
            "Addition: [5 7 9]\n",
            "Multiplication: [ 4 10 18]\n",
            "Array + 10: [11 12 13]\n"
          ]
        }
      ]
    },
    {
      "cell_type": "code",
      "source": [
        "\n",
        "stockAppl = np.array([24,56,22,78,91])\n",
        "stockGgl = np.array([90,50,30,20,80])\n",
        "\n",
        "print(\"Without NP - Difference between every day Stocks:\", np.abs(stockAppl - stockGgl))\n",
        "\n",
        "print(\"With NP - Difference between every day Stocks:\", np.abs(np.subtract(stockAppl, stockGgl)))\n",
        "\n",
        "applProfit, gglProfit = 0, 0\n",
        "\n",
        "for i in range(len(stockAppl) - 1):\n",
        "  if stockAppl[i]:\n",
        "    applProfit += stockAppl[i+1] - stockAppl[i]\n",
        "\n",
        "  if stockGgl[i]:\n",
        "    gglProfit += stockGgl[i+1] - stockGgl[i]\n",
        "\n",
        "  i += 1\n",
        "\n",
        "if applProfit > gglProfit:\n",
        "    print(\"Apple earns more profit:\", applProfit)\n",
        "elif gglProfit > applProfit:\n",
        "    print(\"Google earns more profit:\", gglProfit)\n",
        "else:\n",
        "    print(\"Both earn the same profit:\", applProfit)\n"
      ],
      "metadata": {
        "colab": {
          "base_uri": "https://localhost:8080/"
        },
        "id": "jfS3v0QhBjtH",
        "outputId": "b76a7f6a-44c6-4105-bf56-a91e9ce472cd"
      },
      "execution_count": 48,
      "outputs": [
        {
          "output_type": "stream",
          "name": "stdout",
          "text": [
            "Without NP - Difference between every day Stocks: [66  6  8 58 11]\n",
            "With NP - Difference between every day Stocks: [66  6  8 58 11]\n",
            "Apple earns more profit: 67\n"
          ]
        }
      ]
    },
    {
      "cell_type": "code",
      "source": [
        "\n",
        "random_array = np.random.rand(5)\n",
        "print(\"Random Array:\", random_array)\n",
        "\n",
        "reshaped = np.arange(1, 17).reshape(4, 4)\n",
        "print(\"Reshaped Array:\\n\", reshaped)\n",
        "\n",
        "print(\"Mean:\", np.mean(random_array))\n",
        "print(\"Standard Deviation:\", np.std(random_array))\n"
      ],
      "metadata": {
        "colab": {
          "base_uri": "https://localhost:8080/"
        },
        "id": "FcqFU8pUGIJj",
        "outputId": "304e6e18-fdac-4944-e37c-d4671af59e0f"
      },
      "execution_count": 49,
      "outputs": [
        {
          "output_type": "stream",
          "name": "stdout",
          "text": [
            "Random Array: [0.88178331 0.76759858 0.75522947 0.23944184 0.89587308]\n",
            "Reshaped Array:\n",
            " [[ 1  2  3  4]\n",
            " [ 5  6  7  8]\n",
            " [ 9 10 11 12]\n",
            " [13 14 15 16]]\n",
            "Mean: 0.7079852553786476\n",
            "Standard Deviation: 0.24117474939618064\n"
          ]
        }
      ]
    },
    {
      "cell_type": "markdown",
      "source": [
        "## Step 2: Pandas Basics"
      ],
      "metadata": {
        "id": "NoYi8IHUXDo5"
      }
    },
    {
      "cell_type": "code",
      "source": [
        "pip install pandas"
      ],
      "metadata": {
        "colab": {
          "base_uri": "https://localhost:8080/"
        },
        "id": "u5OtHdArXMy0",
        "outputId": "6c16bc48-8281-41ff-e0e7-3e8b0ffa7348"
      },
      "execution_count": 50,
      "outputs": [
        {
          "output_type": "stream",
          "name": "stdout",
          "text": [
            "Requirement already satisfied: pandas in /usr/local/lib/python3.10/dist-packages (2.2.2)\n",
            "Requirement already satisfied: numpy>=1.22.4 in /usr/local/lib/python3.10/dist-packages (from pandas) (1.26.4)\n",
            "Requirement already satisfied: python-dateutil>=2.8.2 in /usr/local/lib/python3.10/dist-packages (from pandas) (2.8.2)\n",
            "Requirement already satisfied: pytz>=2020.1 in /usr/local/lib/python3.10/dist-packages (from pandas) (2024.2)\n",
            "Requirement already satisfied: tzdata>=2022.7 in /usr/local/lib/python3.10/dist-packages (from pandas) (2024.2)\n",
            "Requirement already satisfied: six>=1.5 in /usr/local/lib/python3.10/dist-packages (from python-dateutil>=2.8.2->pandas) (1.17.0)\n"
          ]
        }
      ]
    },
    {
      "cell_type": "markdown",
      "source": [
        "### 2.1 Creating DataFrames"
      ],
      "metadata": {
        "id": "NopX19L1jIiM"
      }
    },
    {
      "cell_type": "code",
      "source": [
        "import pandas as pd\n",
        "\n",
        "data = {\n",
        "    \"Date\": [\"2024-12-14\", \"2024-12-15\", \"2024-12-16\"],\n",
        "    \"Stock Price\": [150, 152, 149],\n",
        "    \"Volume\": [1000, 1100, 900],\n",
        "}\n",
        "df = pd.DataFrame(data)\n",
        "print(\"DataFrame:\\n\", df)\n",
        "\n"
      ],
      "metadata": {
        "colab": {
          "base_uri": "https://localhost:8080/"
        },
        "id": "eaPHI1p2XVXA",
        "outputId": "4099f06d-fac1-4d10-f715-fb0cb5a20918"
      },
      "execution_count": 51,
      "outputs": [
        {
          "output_type": "stream",
          "name": "stdout",
          "text": [
            "DataFrame:\n",
            "          Date  Stock Price  Volume\n",
            "0  2024-12-14          150    1000\n",
            "1  2024-12-15          152    1100\n",
            "2  2024-12-16          149     900\n"
          ]
        }
      ]
    },
    {
      "cell_type": "markdown",
      "source": [
        "### 2.2 Accessing and Modifying Data"
      ],
      "metadata": {
        "id": "3QeIKlxpjOxv"
      }
    },
    {
      "cell_type": "code",
      "source": [
        "print(\"Total Volumes: \", np.sum(df['Volume']))\n",
        "\n",
        "df['Total Price'] = df['Stock Price'] * df['Volume']\n",
        "print(df)\n",
        "\n",
        "print(\"Stock Prices:\", df[\"Stock Price\"])\n",
        "\n",
        "df[\"Daily Change\"] = df[\"Stock Price\"] - df[\"Stock Price\"].shift(1)\n",
        "print(\"With Daily Change:\\n\", df)\n",
        "\n",
        "filtered_df = df[df[\"Stock Price\"] > 150]\n",
        "print(\"Filtered DataFrame:\\n\", filtered_df)\n",
        "\n",
        "df[\"Percentage_Change\"] = (df[\"Stock Price\"] - df[\"Stock Price\"].shift(1)) / df[\"Stock Price\"].shift(1) * 100\n",
        "print(\"With Percentage Change:\\n\", df)"
      ],
      "metadata": {
        "colab": {
          "base_uri": "https://localhost:8080/"
        },
        "id": "fyUvdlsuYX90",
        "outputId": "4c9b24be-a77e-4630-abe0-a003529b5b75"
      },
      "execution_count": 52,
      "outputs": [
        {
          "output_type": "stream",
          "name": "stdout",
          "text": [
            "Total Volumes:  3000\n",
            "         Date  Stock Price  Volume  Total Price\n",
            "0  2024-12-14          150    1000       150000\n",
            "1  2024-12-15          152    1100       167200\n",
            "2  2024-12-16          149     900       134100\n",
            "Stock Prices: 0    150\n",
            "1    152\n",
            "2    149\n",
            "Name: Stock Price, dtype: int64\n",
            "With Daily Change:\n",
            "          Date  Stock Price  Volume  Total Price  Daily Change\n",
            "0  2024-12-14          150    1000       150000           NaN\n",
            "1  2024-12-15          152    1100       167200           2.0\n",
            "2  2024-12-16          149     900       134100          -3.0\n",
            "Filtered DataFrame:\n",
            "          Date  Stock Price  Volume  Total Price  Daily Change\n",
            "1  2024-12-15          152    1100       167200           2.0\n",
            "With Percentage Change:\n",
            "          Date  Stock Price  Volume  Total Price  Daily Change  \\\n",
            "0  2024-12-14          150    1000       150000           NaN   \n",
            "1  2024-12-15          152    1100       167200           2.0   \n",
            "2  2024-12-16          149     900       134100          -3.0   \n",
            "\n",
            "   Percentage_Change  \n",
            "0                NaN  \n",
            "1           1.333333  \n",
            "2          -1.973684  \n"
          ]
        }
      ]
    },
    {
      "cell_type": "markdown",
      "source": [
        "### 2.3 Importing and Exporting Data"
      ],
      "metadata": {
        "id": "l-4LXOg9j0Bl"
      }
    },
    {
      "cell_type": "code",
      "source": [
        "stock_data = pd.read_csv(\"/content/drive/MyDrive/stock-price.csv\")\n",
        "stock_data['volume'] = pd.to_numeric(stock_data['volume'].str.replace(',', ''), errors='coerce')\n",
        "print(\"Head of the DataFrame:\\n\", stock_data.head())\n",
        "\n",
        "df = pd.DataFrame(stock_data)\n",
        "df.to_csv(\"processed_data.csv\", index=True)\n",
        "print(\"DataFrame:\\n\", df)"
      ],
      "metadata": {
        "colab": {
          "base_uri": "https://localhost:8080/"
        },
        "id": "XWB4umThjCtR",
        "outputId": "20ac70b1-c3e4-4053-a286-911582f2e304"
      },
      "execution_count": 53,
      "outputs": [
        {
          "output_type": "stream",
          "name": "stdout",
          "text": [
            "Head of the DataFrame:\n",
            "          date   close      volume    open    high       low\n",
            "0       11:34  270.49   4787699.0  264.50  273.88  262.2400\n",
            "1  2018/10/15  259.59   6189026.0  259.06  263.28  254.5367\n",
            "2  2018/10/12  258.78   7189257.0  261.00  261.99  252.0100\n",
            "3  2018/10/11  252.23   8128184.0  257.53  262.25  249.0300\n",
            "4  2018/10/10  256.88  12781560.0  264.61  265.51  247.7700\n",
            "DataFrame:\n",
            "            date   close      volume    open      high       low\n",
            "0         11:34  270.49   4787699.0  264.50  273.8800  262.2400\n",
            "1    2018/10/15  259.59   6189026.0  259.06  263.2800  254.5367\n",
            "2    2018/10/12  258.78   7189257.0  261.00  261.9900  252.0100\n",
            "3    2018/10/11  252.23   8128184.0  257.53  262.2500  249.0300\n",
            "4    2018/10/10  256.88  12781560.0  264.61  265.5100  247.7700\n",
            "..          ...     ...         ...     ...       ...       ...\n",
            "752  2015/10/21  210.09   4177956.0  211.99  214.8100  208.8000\n",
            "753  2015/10/20  213.03  14877020.0  227.72  228.6000  202.0000\n",
            "754  2015/10/19  228.10   2506836.0  226.50  231.1500  224.9400\n",
            "755  2015/10/16  227.01   4327574.0  223.04  230.4805  222.8700\n",
            "756  2015/10/15  221.31   2835920.0  216.43  221.7300  213.7000\n",
            "\n",
            "[757 rows x 6 columns]\n"
          ]
        }
      ]
    },
    {
      "cell_type": "markdown",
      "source": [
        "### 2.4 Aggregating Data"
      ],
      "metadata": {
        "id": "_YJEmdsamTUd"
      }
    },
    {
      "cell_type": "code",
      "source": [
        "df = pd.read_csv(\"processed_data.csv\", index_col=0)\n",
        "\n",
        "daily_data = df.groupby(\"date\").mean()\n",
        "print(\"Daily Aggregated Data:\\n\", daily_data)\n",
        "\n",
        "print(\"Total Volume:\", df[\"volume\"].sum())\n",
        "\n",
        "print(\"Average Stock Price:\", df[\"close\"].mean())\n",
        "\n",
        "\n",
        "profit = df['high'] - df['low']\n",
        "maxProfit = profit.idxmax()\n",
        "print(\"Maximum Profit on this date\", df.loc[maxProfit, 'date'], \" Profit was: \", profit[maxProfit])\n",
        "minProfit = profit.idxmin()\n",
        "print(\"Minimum Profit on this date\", df.loc[minProfit, 'date'], \" Profit was: \", profit[minProfit])\n"
      ],
      "metadata": {
        "colab": {
          "base_uri": "https://localhost:8080/"
        },
        "id": "YJsIv-SUmM0-",
        "outputId": "290e89a6-4875-4b09-a524-7e5d0b379eb3"
      },
      "execution_count": 54,
      "outputs": [
        {
          "output_type": "stream",
          "name": "stdout",
          "text": [
            "Daily Aggregated Data:\n",
            "              close      volume    open      high       low\n",
            "date                                                      \n",
            "11:34       270.49   4787699.0  264.50  273.8800  262.2400\n",
            "2015/10/15  221.31   2835920.0  216.43  221.7300  213.7000\n",
            "2015/10/16  227.01   4327574.0  223.04  230.4805  222.8700\n",
            "2015/10/19  228.10   2506836.0  226.50  231.1500  224.9400\n",
            "2015/10/20  213.03  14877020.0  227.72  228.6000  202.0000\n",
            "...            ...         ...     ...       ...       ...\n",
            "2018/10/09  262.80  12037780.0  255.25  266.7700  253.3000\n",
            "2018/10/10  256.88  12781560.0  264.61  265.5100  247.7700\n",
            "2018/10/11  252.23   8128184.0  257.53  262.2500  249.0300\n",
            "2018/10/12  258.78   7189257.0  261.00  261.9900  252.0100\n",
            "2018/10/15  259.59   6189026.0  259.06  263.2800  254.5367\n",
            "\n",
            "[757 rows x 5 columns]\n",
            "Total Volume: 4653329466.0\n",
            "Average Stock Price: 272.64561426684276\n",
            "Maximum Profit on this date 2018/08/07  Profit was:  48.30989999999997\n",
            "Minimum Profit on this date 2016/08/17  Profit was:  2.030000000000001\n"
          ]
        }
      ]
    },
    {
      "cell_type": "code",
      "source": [
        "\n",
        "i=0\n",
        "cummulativeProfit=0\n",
        "\n",
        "while i < len(df):\n",
        "  #print(\"Closing stock price: \", df.iloc[i]['close'])\n",
        "\n",
        "  todayProfit = (df['close'][i] - df['open'][i]) * df['volume'][i]\n",
        "  cummulativeProfit += todayProfit\n",
        "  averageprofit = cummulativeProfit / (i+1)\n",
        "\n",
        "  if(averageprofit > todayProfit):\n",
        "    df['Profit/Loss'] = \"Loss\"\n",
        "  else:\n",
        "    df['Profit/Loss'] = \"Profit\"\n",
        "\n",
        "  i+=1\n",
        "\n",
        "print(df)\n"
      ],
      "metadata": {
        "colab": {
          "base_uri": "https://localhost:8080/"
        },
        "id": "mk_A4mTdS_J2",
        "outputId": "73548803-e99b-4e0f-b665-8e102899bd6c"
      },
      "execution_count": 55,
      "outputs": [
        {
          "output_type": "stream",
          "name": "stdout",
          "text": [
            "           date   close      volume    open      high       low Profit/Loss\n",
            "0         11:34  270.49   4787699.0  264.50  273.8800  262.2400      Profit\n",
            "1    2018/10/15  259.59   6189026.0  259.06  263.2800  254.5367      Profit\n",
            "2    2018/10/12  258.78   7189257.0  261.00  261.9900  252.0100      Profit\n",
            "3    2018/10/11  252.23   8128184.0  257.53  262.2500  249.0300      Profit\n",
            "4    2018/10/10  256.88  12781560.0  264.61  265.5100  247.7700      Profit\n",
            "..          ...     ...         ...     ...       ...       ...         ...\n",
            "752  2015/10/21  210.09   4177956.0  211.99  214.8100  208.8000      Profit\n",
            "753  2015/10/20  213.03  14877020.0  227.72  228.6000  202.0000      Profit\n",
            "754  2015/10/19  228.10   2506836.0  226.50  231.1500  224.9400      Profit\n",
            "755  2015/10/16  227.01   4327574.0  223.04  230.4805  222.8700      Profit\n",
            "756  2015/10/15  221.31   2835920.0  216.43  221.7300  213.7000      Profit\n",
            "\n",
            "[757 rows x 7 columns]\n"
          ]
        }
      ]
    },
    {
      "cell_type": "code",
      "source": [
        "df['date'] = pd.to_datetime(df['date'], format='%Y/%m/%d', errors='coerce')\n",
        "\n",
        "df = df.dropna(subset=['date'])\n",
        "\n",
        "df['Year-Month'] = df['date'].dt.to_period('M')\n",
        "\n",
        "profit_loss_counts = df.groupby(['Year-Month', 'Profit/Loss']).size().unstack(fill_value=0)\n",
        "\n",
        "print(df)"
      ],
      "metadata": {
        "colab": {
          "base_uri": "https://localhost:8080/"
        },
        "id": "7i_NYmf0TQDn",
        "outputId": "0c2e5be1-5513-488f-bb9a-99224a3a7e68"
      },
      "execution_count": 56,
      "outputs": [
        {
          "output_type": "stream",
          "name": "stdout",
          "text": [
            "          date   close      volume    open      high       low Profit/Loss  \\\n",
            "1   2018-10-15  259.59   6189026.0  259.06  263.2800  254.5367      Profit   \n",
            "2   2018-10-12  258.78   7189257.0  261.00  261.9900  252.0100      Profit   \n",
            "3   2018-10-11  252.23   8128184.0  257.53  262.2500  249.0300      Profit   \n",
            "4   2018-10-10  256.88  12781560.0  264.61  265.5100  247.7700      Profit   \n",
            "5   2018-10-09  262.80  12037780.0  255.25  266.7700  253.3000      Profit   \n",
            "..         ...     ...         ...     ...       ...       ...         ...   \n",
            "752 2015-10-21  210.09   4177956.0  211.99  214.8100  208.8000      Profit   \n",
            "753 2015-10-20  213.03  14877020.0  227.72  228.6000  202.0000      Profit   \n",
            "754 2015-10-19  228.10   2506836.0  226.50  231.1500  224.9400      Profit   \n",
            "755 2015-10-16  227.01   4327574.0  223.04  230.4805  222.8700      Profit   \n",
            "756 2015-10-15  221.31   2835920.0  216.43  221.7300  213.7000      Profit   \n",
            "\n",
            "    Year-Month  \n",
            "1      2018-10  \n",
            "2      2018-10  \n",
            "3      2018-10  \n",
            "4      2018-10  \n",
            "5      2018-10  \n",
            "..         ...  \n",
            "752    2015-10  \n",
            "753    2015-10  \n",
            "754    2015-10  \n",
            "755    2015-10  \n",
            "756    2015-10  \n",
            "\n",
            "[756 rows x 8 columns]\n"
          ]
        },
        {
          "output_type": "stream",
          "name": "stderr",
          "text": [
            "<ipython-input-56-4f5badb8ab93>:5: SettingWithCopyWarning: \n",
            "A value is trying to be set on a copy of a slice from a DataFrame.\n",
            "Try using .loc[row_indexer,col_indexer] = value instead\n",
            "\n",
            "See the caveats in the documentation: https://pandas.pydata.org/pandas-docs/stable/user_guide/indexing.html#returning-a-view-versus-a-copy\n",
            "  df['Year-Month'] = df['date'].dt.to_period('M')\n"
          ]
        }
      ]
    },
    {
      "cell_type": "code",
      "source": [
        "import matplotlib.pyplot as plt\n",
        "\n",
        "ax = profit_loss_counts.plot(kind='bar', stacked=False, color=['green', 'red'], figsize=(10, 6))\n",
        "\n",
        "plt.title('Number of Profits and Losses by Month-Year')\n",
        "plt.xlabel('Month-Year')\n",
        "plt.ylabel('Count')\n",
        "plt.legend(title='Profit/Loss', labels=['Profit', 'Loss'])\n",
        "\n",
        "plt.show()"
      ],
      "metadata": {
        "colab": {
          "base_uri": "https://localhost:8080/",
          "height": 608
        },
        "id": "gvhvLDvgSIi1",
        "outputId": "8ba9a701-8a39-455c-a0f9-22647925e9ec"
      },
      "execution_count": 57,
      "outputs": [
        {
          "output_type": "display_data",
          "data": {
            "text/plain": [
              "<Figure size 1000x600 with 1 Axes>"
            ],
            "image/png": "[encoded data removed]"
          },
          "metadata": {}
        }
      ]
    }
  ]
}